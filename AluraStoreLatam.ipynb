{
  "nbformat": 4,
  "nbformat_minor": 0,
  "metadata": {
    "colab": {
      "provenance": [],
      "include_colab_link": true
    },
    "kernelspec": {
      "name": "python3",
      "display_name": "Python 3"
    },
    "language_info": {
      "name": "python"
    }
  },
  "cells": [
    {
      "cell_type": "markdown",
      "metadata": {
        "id": "view-in-github",
        "colab_type": "text"
      },
      "source": [
        "<a href=\"https://colab.research.google.com/github/NicoLatina/Alura_Store/blob/main/AluraStoreLatam.ipynb\" target=\"_parent\"><img src=\"https://colab.research.google.com/assets/colab-badge.svg\" alt=\"Open In Colab\"/></a>"
      ]
    },
    {
      "cell_type": "markdown",
      "source": [
        "### Importación de datos\n",
        "\n"
      ],
      "metadata": {
        "id": "RhEdWd9YUR6H"
      }
    },
    {
      "cell_type": "code",
      "execution_count": 7,
      "metadata": {
        "colab": {
          "base_uri": "https://localhost:8080/",
          "height": 400
        },
        "id": "T3EvaeQ_INIL",
        "outputId": "b688d8e7-b7c9-4d32-97aa-96874fd80412"
      },
      "outputs": [
        {
          "output_type": "execute_result",
          "data": {
            "text/plain": [
              "            Producto Categoría del Producto    Precio  Costo de envío  \\\n",
              "0  Asistente virtual           Electrónicos  164300.0          6900.0   \n",
              "1    Mesa de comedor                Muebles  192300.0          8400.0   \n",
              "2      Juego de mesa               Juguetes  209600.0         15900.0   \n",
              "3         Microondas      Electrodomésticos  757500.0         41000.0   \n",
              "4   Silla de oficina                Muebles  335200.0         20200.0   \n",
              "\n",
              "  Fecha de Compra         Vendedor Lugar de Compra  Calificación  \\\n",
              "0      16/01/2021      Pedro Gomez          Bogotá             4   \n",
              "1      18/05/2022  Beatriz Morales        Medellín             1   \n",
              "2      15/03/2021   Juan Fernandez       Cartagena             1   \n",
              "3      03/05/2022   Juan Fernandez            Cali             4   \n",
              "4      07/11/2020    Maria Alfonso        Medellín             5   \n",
              "\n",
              "       Método de pago  Cantidad de cuotas       lat       lon  \n",
              "0  Tarjeta de crédito                   8   4.60971 -74.08175  \n",
              "1  Tarjeta de crédito                   4   6.25184 -75.56359  \n",
              "2  Tarjeta de crédito                   1  10.39972 -75.51444  \n",
              "3               Nequi                   1   3.43722 -76.52250  \n",
              "4               Nequi                   1   6.25184 -75.56359  "
            ],
            "text/html": [
              "\n",
              "  <div id=\"df-e9b54467-54b4-4643-baf7-bee1ceedd1a7\" class=\"colab-df-container\">\n",
              "    <div>\n",
              "<style scoped>\n",
              "    .dataframe tbody tr th:only-of-type {\n",
              "        vertical-align: middle;\n",
              "    }\n",
              "\n",
              "    .dataframe tbody tr th {\n",
              "        vertical-align: top;\n",
              "    }\n",
              "\n",
              "    .dataframe thead th {\n",
              "        text-align: right;\n",
              "    }\n",
              "</style>\n",
              "<table border=\"1\" class=\"dataframe\">\n",
              "  <thead>\n",
              "    <tr style=\"text-align: right;\">\n",
              "      <th></th>\n",
              "      <th>Producto</th>\n",
              "      <th>Categoría del Producto</th>\n",
              "      <th>Precio</th>\n",
              "      <th>Costo de envío</th>\n",
              "      <th>Fecha de Compra</th>\n",
              "      <th>Vendedor</th>\n",
              "      <th>Lugar de Compra</th>\n",
              "      <th>Calificación</th>\n",
              "      <th>Método de pago</th>\n",
              "      <th>Cantidad de cuotas</th>\n",
              "      <th>lat</th>\n",
              "      <th>lon</th>\n",
              "    </tr>\n",
              "  </thead>\n",
              "  <tbody>\n",
              "    <tr>\n",
              "      <th>0</th>\n",
              "      <td>Asistente virtual</td>\n",
              "      <td>Electrónicos</td>\n",
              "      <td>164300.0</td>\n",
              "      <td>6900.0</td>\n",
              "      <td>16/01/2021</td>\n",
              "      <td>Pedro Gomez</td>\n",
              "      <td>Bogotá</td>\n",
              "      <td>4</td>\n",
              "      <td>Tarjeta de crédito</td>\n",
              "      <td>8</td>\n",
              "      <td>4.60971</td>\n",
              "      <td>-74.08175</td>\n",
              "    </tr>\n",
              "    <tr>\n",
              "      <th>1</th>\n",
              "      <td>Mesa de comedor</td>\n",
              "      <td>Muebles</td>\n",
              "      <td>192300.0</td>\n",
              "      <td>8400.0</td>\n",
              "      <td>18/05/2022</td>\n",
              "      <td>Beatriz Morales</td>\n",
              "      <td>Medellín</td>\n",
              "      <td>1</td>\n",
              "      <td>Tarjeta de crédito</td>\n",
              "      <td>4</td>\n",
              "      <td>6.25184</td>\n",
              "      <td>-75.56359</td>\n",
              "    </tr>\n",
              "    <tr>\n",
              "      <th>2</th>\n",
              "      <td>Juego de mesa</td>\n",
              "      <td>Juguetes</td>\n",
              "      <td>209600.0</td>\n",
              "      <td>15900.0</td>\n",
              "      <td>15/03/2021</td>\n",
              "      <td>Juan Fernandez</td>\n",
              "      <td>Cartagena</td>\n",
              "      <td>1</td>\n",
              "      <td>Tarjeta de crédito</td>\n",
              "      <td>1</td>\n",
              "      <td>10.39972</td>\n",
              "      <td>-75.51444</td>\n",
              "    </tr>\n",
              "    <tr>\n",
              "      <th>3</th>\n",
              "      <td>Microondas</td>\n",
              "      <td>Electrodomésticos</td>\n",
              "      <td>757500.0</td>\n",
              "      <td>41000.0</td>\n",
              "      <td>03/05/2022</td>\n",
              "      <td>Juan Fernandez</td>\n",
              "      <td>Cali</td>\n",
              "      <td>4</td>\n",
              "      <td>Nequi</td>\n",
              "      <td>1</td>\n",
              "      <td>3.43722</td>\n",
              "      <td>-76.52250</td>\n",
              "    </tr>\n",
              "    <tr>\n",
              "      <th>4</th>\n",
              "      <td>Silla de oficina</td>\n",
              "      <td>Muebles</td>\n",
              "      <td>335200.0</td>\n",
              "      <td>20200.0</td>\n",
              "      <td>07/11/2020</td>\n",
              "      <td>Maria Alfonso</td>\n",
              "      <td>Medellín</td>\n",
              "      <td>5</td>\n",
              "      <td>Nequi</td>\n",
              "      <td>1</td>\n",
              "      <td>6.25184</td>\n",
              "      <td>-75.56359</td>\n",
              "    </tr>\n",
              "  </tbody>\n",
              "</table>\n",
              "</div>\n",
              "    <div class=\"colab-df-buttons\">\n",
              "\n",
              "  <div class=\"colab-df-container\">\n",
              "    <button class=\"colab-df-convert\" onclick=\"convertToInteractive('df-e9b54467-54b4-4643-baf7-bee1ceedd1a7')\"\n",
              "            title=\"Convert this dataframe to an interactive table.\"\n",
              "            style=\"display:none;\">\n",
              "\n",
              "  <svg xmlns=\"http://www.w3.org/2000/svg\" height=\"24px\" viewBox=\"0 -960 960 960\">\n",
              "    <path d=\"M120-120v-720h720v720H120Zm60-500h600v-160H180v160Zm220 220h160v-160H400v160Zm0 220h160v-160H400v160ZM180-400h160v-160H180v160Zm440 0h160v-160H620v160ZM180-180h160v-160H180v160Zm440 0h160v-160H620v160Z\"/>\n",
              "  </svg>\n",
              "    </button>\n",
              "\n",
              "  <style>\n",
              "    .colab-df-container {\n",
              "      display:flex;\n",
              "      gap: 12px;\n",
              "    }\n",
              "\n",
              "    .colab-df-convert {\n",
              "      background-color: #E8F0FE;\n",
              "      border: none;\n",
              "      border-radius: 50%;\n",
              "      cursor: pointer;\n",
              "      display: none;\n",
              "      fill: #1967D2;\n",
              "      height: 32px;\n",
              "      padding: 0 0 0 0;\n",
              "      width: 32px;\n",
              "    }\n",
              "\n",
              "    .colab-df-convert:hover {\n",
              "      background-color: #E2EBFA;\n",
              "      box-shadow: 0px 1px 2px rgba(60, 64, 67, 0.3), 0px 1px 3px 1px rgba(60, 64, 67, 0.15);\n",
              "      fill: #174EA6;\n",
              "    }\n",
              "\n",
              "    .colab-df-buttons div {\n",
              "      margin-bottom: 4px;\n",
              "    }\n",
              "\n",
              "    [theme=dark] .colab-df-convert {\n",
              "      background-color: #3B4455;\n",
              "      fill: #D2E3FC;\n",
              "    }\n",
              "\n",
              "    [theme=dark] .colab-df-convert:hover {\n",
              "      background-color: #434B5C;\n",
              "      box-shadow: 0px 1px 3px 1px rgba(0, 0, 0, 0.15);\n",
              "      filter: drop-shadow(0px 1px 2px rgba(0, 0, 0, 0.3));\n",
              "      fill: #FFFFFF;\n",
              "    }\n",
              "  </style>\n",
              "\n",
              "    <script>\n",
              "      const buttonEl =\n",
              "        document.querySelector('#df-e9b54467-54b4-4643-baf7-bee1ceedd1a7 button.colab-df-convert');\n",
              "      buttonEl.style.display =\n",
              "        google.colab.kernel.accessAllowed ? 'block' : 'none';\n",
              "\n",
              "      async function convertToInteractive(key) {\n",
              "        const element = document.querySelector('#df-e9b54467-54b4-4643-baf7-bee1ceedd1a7');\n",
              "        const dataTable =\n",
              "          await google.colab.kernel.invokeFunction('convertToInteractive',\n",
              "                                                    [key], {});\n",
              "        if (!dataTable) return;\n",
              "\n",
              "        const docLinkHtml = 'Like what you see? Visit the ' +\n",
              "          '<a target=\"_blank\" href=https://colab.research.google.com/notebooks/data_table.ipynb>data table notebook</a>'\n",
              "          + ' to learn more about interactive tables.';\n",
              "        element.innerHTML = '';\n",
              "        dataTable['output_type'] = 'display_data';\n",
              "        await google.colab.output.renderOutput(dataTable, element);\n",
              "        const docLink = document.createElement('div');\n",
              "        docLink.innerHTML = docLinkHtml;\n",
              "        element.appendChild(docLink);\n",
              "      }\n",
              "    </script>\n",
              "  </div>\n",
              "\n",
              "\n",
              "    <div id=\"df-4be846c9-9c1d-4583-a84e-97d05ef6b9f8\">\n",
              "      <button class=\"colab-df-quickchart\" onclick=\"quickchart('df-4be846c9-9c1d-4583-a84e-97d05ef6b9f8')\"\n",
              "                title=\"Suggest charts\"\n",
              "                style=\"display:none;\">\n",
              "\n",
              "<svg xmlns=\"http://www.w3.org/2000/svg\" height=\"24px\"viewBox=\"0 0 24 24\"\n",
              "     width=\"24px\">\n",
              "    <g>\n",
              "        <path d=\"M19 3H5c-1.1 0-2 .9-2 2v14c0 1.1.9 2 2 2h14c1.1 0 2-.9 2-2V5c0-1.1-.9-2-2-2zM9 17H7v-7h2v7zm4 0h-2V7h2v10zm4 0h-2v-4h2v4z\"/>\n",
              "    </g>\n",
              "</svg>\n",
              "      </button>\n",
              "\n",
              "<style>\n",
              "  .colab-df-quickchart {\n",
              "      --bg-color: #E8F0FE;\n",
              "      --fill-color: #1967D2;\n",
              "      --hover-bg-color: #E2EBFA;\n",
              "      --hover-fill-color: #174EA6;\n",
              "      --disabled-fill-color: #AAA;\n",
              "      --disabled-bg-color: #DDD;\n",
              "  }\n",
              "\n",
              "  [theme=dark] .colab-df-quickchart {\n",
              "      --bg-color: #3B4455;\n",
              "      --fill-color: #D2E3FC;\n",
              "      --hover-bg-color: #434B5C;\n",
              "      --hover-fill-color: #FFFFFF;\n",
              "      --disabled-bg-color: #3B4455;\n",
              "      --disabled-fill-color: #666;\n",
              "  }\n",
              "\n",
              "  .colab-df-quickchart {\n",
              "    background-color: var(--bg-color);\n",
              "    border: none;\n",
              "    border-radius: 50%;\n",
              "    cursor: pointer;\n",
              "    display: none;\n",
              "    fill: var(--fill-color);\n",
              "    height: 32px;\n",
              "    padding: 0;\n",
              "    width: 32px;\n",
              "  }\n",
              "\n",
              "  .colab-df-quickchart:hover {\n",
              "    background-color: var(--hover-bg-color);\n",
              "    box-shadow: 0 1px 2px rgba(60, 64, 67, 0.3), 0 1px 3px 1px rgba(60, 64, 67, 0.15);\n",
              "    fill: var(--button-hover-fill-color);\n",
              "  }\n",
              "\n",
              "  .colab-df-quickchart-complete:disabled,\n",
              "  .colab-df-quickchart-complete:disabled:hover {\n",
              "    background-color: var(--disabled-bg-color);\n",
              "    fill: var(--disabled-fill-color);\n",
              "    box-shadow: none;\n",
              "  }\n",
              "\n",
              "  .colab-df-spinner {\n",
              "    border: 2px solid var(--fill-color);\n",
              "    border-color: transparent;\n",
              "    border-bottom-color: var(--fill-color);\n",
              "    animation:\n",
              "      spin 1s steps(1) infinite;\n",
              "  }\n",
              "\n",
              "  @keyframes spin {\n",
              "    0% {\n",
              "      border-color: transparent;\n",
              "      border-bottom-color: var(--fill-color);\n",
              "      border-left-color: var(--fill-color);\n",
              "    }\n",
              "    20% {\n",
              "      border-color: transparent;\n",
              "      border-left-color: var(--fill-color);\n",
              "      border-top-color: var(--fill-color);\n",
              "    }\n",
              "    30% {\n",
              "      border-color: transparent;\n",
              "      border-left-color: var(--fill-color);\n",
              "      border-top-color: var(--fill-color);\n",
              "      border-right-color: var(--fill-color);\n",
              "    }\n",
              "    40% {\n",
              "      border-color: transparent;\n",
              "      border-right-color: var(--fill-color);\n",
              "      border-top-color: var(--fill-color);\n",
              "    }\n",
              "    60% {\n",
              "      border-color: transparent;\n",
              "      border-right-color: var(--fill-color);\n",
              "    }\n",
              "    80% {\n",
              "      border-color: transparent;\n",
              "      border-right-color: var(--fill-color);\n",
              "      border-bottom-color: var(--fill-color);\n",
              "    }\n",
              "    90% {\n",
              "      border-color: transparent;\n",
              "      border-bottom-color: var(--fill-color);\n",
              "    }\n",
              "  }\n",
              "</style>\n",
              "\n",
              "      <script>\n",
              "        async function quickchart(key) {\n",
              "          const quickchartButtonEl =\n",
              "            document.querySelector('#' + key + ' button');\n",
              "          quickchartButtonEl.disabled = true;  // To prevent multiple clicks.\n",
              "          quickchartButtonEl.classList.add('colab-df-spinner');\n",
              "          try {\n",
              "            const charts = await google.colab.kernel.invokeFunction(\n",
              "                'suggestCharts', [key], {});\n",
              "          } catch (error) {\n",
              "            console.error('Error during call to suggestCharts:', error);\n",
              "          }\n",
              "          quickchartButtonEl.classList.remove('colab-df-spinner');\n",
              "          quickchartButtonEl.classList.add('colab-df-quickchart-complete');\n",
              "        }\n",
              "        (() => {\n",
              "          let quickchartButtonEl =\n",
              "            document.querySelector('#df-4be846c9-9c1d-4583-a84e-97d05ef6b9f8 button');\n",
              "          quickchartButtonEl.style.display =\n",
              "            google.colab.kernel.accessAllowed ? 'block' : 'none';\n",
              "        })();\n",
              "      </script>\n",
              "    </div>\n",
              "\n",
              "    </div>\n",
              "  </div>\n"
            ],
            "application/vnd.google.colaboratory.intrinsic+json": {
              "type": "dataframe",
              "variable_name": "tienda",
              "summary": "{\n  \"name\": \"tienda\",\n  \"rows\": 2359,\n  \"fields\": [\n    {\n      \"column\": \"Producto\",\n      \"properties\": {\n        \"dtype\": \"category\",\n        \"num_unique_values\": 51,\n        \"samples\": [\n          \"Guitarra ac\\u00fastica\",\n          \"Bal\\u00f3n de baloncesto\",\n          \"Smartwatch\"\n        ],\n        \"semantic_type\": \"\",\n        \"description\": \"\"\n      }\n    },\n    {\n      \"column\": \"Categor\\u00eda del Producto\",\n      \"properties\": {\n        \"dtype\": \"category\",\n        \"num_unique_values\": 8,\n        \"samples\": [\n          \"Muebles\",\n          \"Deportes y diversi\\u00f3n\",\n          \"Electr\\u00f3nicos\"\n        ],\n        \"semantic_type\": \"\",\n        \"description\": \"\"\n      }\n    },\n    {\n      \"column\": \"Precio\",\n      \"properties\": {\n        \"dtype\": \"number\",\n        \"std\": 614686.7653873172,\n        \"min\": 7600.0,\n        \"max\": 2977000.0,\n        \"num_unique_values\": 1937,\n        \"samples\": [\n          2499400.0,\n          14800.0,\n          80500.0\n        ],\n        \"semantic_type\": \"\",\n        \"description\": \"\"\n      }\n    },\n    {\n      \"column\": \"Costo de env\\u00edo\",\n      \"properties\": {\n        \"dtype\": \"number\",\n        \"std\": 32860.0017825605,\n        \"min\": 0.0,\n        \"max\": 160800.0,\n        \"num_unique_values\": 753,\n        \"samples\": [\n          117800.0,\n          54700.0,\n          45600.0\n        ],\n        \"semantic_type\": \"\",\n        \"description\": \"\"\n      }\n    },\n    {\n      \"column\": \"Fecha de Compra\",\n      \"properties\": {\n        \"dtype\": \"object\",\n        \"num_unique_values\": 1018,\n        \"samples\": [\n          \"15/09/2022\",\n          \"03/06/2020\",\n          \"06/11/2021\"\n        ],\n        \"semantic_type\": \"\",\n        \"description\": \"\"\n      }\n    },\n    {\n      \"column\": \"Vendedor\",\n      \"properties\": {\n        \"dtype\": \"category\",\n        \"num_unique_values\": 14,\n        \"samples\": [\n          \"Juliana Costa\",\n          \"Mariana Herrera\",\n          \"Pedro Gomez\"\n        ],\n        \"semantic_type\": \"\",\n        \"description\": \"\"\n      }\n    },\n    {\n      \"column\": \"Lugar de Compra\",\n      \"properties\": {\n        \"dtype\": \"category\",\n        \"num_unique_values\": 19,\n        \"samples\": [\n          \"Bogot\\u00e1\",\n          \"Pereira\",\n          \"Neiva\"\n        ],\n        \"semantic_type\": \"\",\n        \"description\": \"\"\n      }\n    },\n    {\n      \"column\": \"Calificaci\\u00f3n\",\n      \"properties\": {\n        \"dtype\": \"number\",\n        \"std\": 1,\n        \"min\": 1,\n        \"max\": 5,\n        \"num_unique_values\": 5,\n        \"samples\": [\n          1,\n          2,\n          5\n        ],\n        \"semantic_type\": \"\",\n        \"description\": \"\"\n      }\n    },\n    {\n      \"column\": \"M\\u00e9todo de pago\",\n      \"properties\": {\n        \"dtype\": \"category\",\n        \"num_unique_values\": 4,\n        \"samples\": [\n          \"Nequi\",\n          \"Tarjeta de d\\u00e9bito\",\n          \"Tarjeta de cr\\u00e9dito\"\n        ],\n        \"semantic_type\": \"\",\n        \"description\": \"\"\n      }\n    },\n    {\n      \"column\": \"Cantidad de cuotas\",\n      \"properties\": {\n        \"dtype\": \"number\",\n        \"std\": 2,\n        \"min\": 1,\n        \"max\": 24,\n        \"num_unique_values\": 15,\n        \"samples\": [\n          7,\n          14,\n          8\n        ],\n        \"semantic_type\": \"\",\n        \"description\": \"\"\n      }\n    },\n    {\n      \"column\": \"lat\",\n      \"properties\": {\n        \"dtype\": \"number\",\n        \"std\": 2.2874452492678627,\n        \"min\": -4.21528,\n        \"max\": 11.54444,\n        \"num_unique_values\": 19,\n        \"samples\": [\n          4.60971,\n          4.81333,\n          2.9273\n        ],\n        \"semantic_type\": \"\",\n        \"description\": \"\"\n      }\n    },\n    {\n      \"column\": \"lon\",\n      \"properties\": {\n        \"dtype\": \"number\",\n        \"std\": 1.2178272727088486,\n        \"min\": -77.28111,\n        \"max\": -67.9239,\n        \"num_unique_values\": 19,\n        \"samples\": [\n          -74.08175,\n          -75.69611,\n          -75.28189\n        ],\n        \"semantic_type\": \"\",\n        \"description\": \"\"\n      }\n    }\n  ]\n}"
            }
          },
          "metadata": {},
          "execution_count": 7
        }
      ],
      "source": [
        "import pandas as pd\n",
        "\n",
        "url = \"https://raw.githubusercontent.com/alura-es-cursos/challenge1-data-science-latam/refs/heads/main/base-de-datos-challenge1-latam/tienda_1%20.csv\"\n",
        "url2 = \"https://raw.githubusercontent.com/alura-es-cursos/challenge1-data-science-latam/refs/heads/main/base-de-datos-challenge1-latam/tienda_2.csv\"\n",
        "url3 = \"https://raw.githubusercontent.com/alura-es-cursos/challenge1-data-science-latam/refs/heads/main/base-de-datos-challenge1-latam/tienda_3.csv\"\n",
        "url4 = \"https://raw.githubusercontent.com/alura-es-cursos/challenge1-data-science-latam/refs/heads/main/base-de-datos-challenge1-latam/tienda_4.csv\"\n",
        "\n",
        "tienda = pd.read_csv(url)\n",
        "tienda2 = pd.read_csv(url2)\n",
        "tienda3 = pd.read_csv(url3)\n",
        "tienda4 = pd.read_csv(url4)\n",
        "\n",
        "tienda.head()"
      ]
    },
    {
      "cell_type": "code",
      "source": [
        "tienda2.head()"
      ],
      "metadata": {
        "id": "PtXrjxHNI8Q2",
        "colab": {
          "base_uri": "https://localhost:8080/",
          "height": 417
        },
        "outputId": "2e17cfb3-e92c-462f-f9be-b8f62e602f04"
      },
      "execution_count": 8,
      "outputs": [
        {
          "output_type": "execute_result",
          "data": {
            "text/plain": [
              "           Producto  Categoría del Producto    Precio  Costo de envío  \\\n",
              "0  Silla de oficina                 Muebles  283600.0         15300.0   \n",
              "1         Pandereta  Instrumentos musicales   76800.0          2300.0   \n",
              "2         Cama king                 Muebles  443300.0         23800.0   \n",
              "3         Cama king                 Muebles  906200.0         46400.0   \n",
              "4  Silla de oficina                 Muebles  397800.0         19400.0   \n",
              "\n",
              "  Fecha de Compra         Vendedor Lugar de Compra  Calificación  \\\n",
              "0      04/08/2021  Izabela de León        Medellín             1   \n",
              "1      26/11/2020   Blanca Ramirez        Medellín             3   \n",
              "2      22/10/2021  Izabela de León         Pereira             5   \n",
              "3      04/05/2022    Maria Alfonso            Cali             5   \n",
              "4      26/02/2022    Lucas Olivera          Bogotá             4   \n",
              "\n",
              "       Método de pago  Cantidad de cuotas      lat       lon  \n",
              "0               Nequi                   1  6.25184 -75.56359  \n",
              "1  Tarjeta de crédito                   4  6.25184 -75.56359  \n",
              "2  Tarjeta de crédito                  10  4.81333 -75.69611  \n",
              "3  Tarjeta de crédito                  10  3.43722 -76.52250  \n",
              "4  Tarjeta de crédito                   3  4.60971 -74.08175  "
            ],
            "text/html": [
              "\n",
              "  <div id=\"df-257d1b00-2483-46dd-b99d-43c90419cd2c\" class=\"colab-df-container\">\n",
              "    <div>\n",
              "<style scoped>\n",
              "    .dataframe tbody tr th:only-of-type {\n",
              "        vertical-align: middle;\n",
              "    }\n",
              "\n",
              "    .dataframe tbody tr th {\n",
              "        vertical-align: top;\n",
              "    }\n",
              "\n",
              "    .dataframe thead th {\n",
              "        text-align: right;\n",
              "    }\n",
              "</style>\n",
              "<table border=\"1\" class=\"dataframe\">\n",
              "  <thead>\n",
              "    <tr style=\"text-align: right;\">\n",
              "      <th></th>\n",
              "      <th>Producto</th>\n",
              "      <th>Categoría del Producto</th>\n",
              "      <th>Precio</th>\n",
              "      <th>Costo de envío</th>\n",
              "      <th>Fecha de Compra</th>\n",
              "      <th>Vendedor</th>\n",
              "      <th>Lugar de Compra</th>\n",
              "      <th>Calificación</th>\n",
              "      <th>Método de pago</th>\n",
              "      <th>Cantidad de cuotas</th>\n",
              "      <th>lat</th>\n",
              "      <th>lon</th>\n",
              "    </tr>\n",
              "  </thead>\n",
              "  <tbody>\n",
              "    <tr>\n",
              "      <th>0</th>\n",
              "      <td>Silla de oficina</td>\n",
              "      <td>Muebles</td>\n",
              "      <td>283600.0</td>\n",
              "      <td>15300.0</td>\n",
              "      <td>04/08/2021</td>\n",
              "      <td>Izabela de León</td>\n",
              "      <td>Medellín</td>\n",
              "      <td>1</td>\n",
              "      <td>Nequi</td>\n",
              "      <td>1</td>\n",
              "      <td>6.25184</td>\n",
              "      <td>-75.56359</td>\n",
              "    </tr>\n",
              "    <tr>\n",
              "      <th>1</th>\n",
              "      <td>Pandereta</td>\n",
              "      <td>Instrumentos musicales</td>\n",
              "      <td>76800.0</td>\n",
              "      <td>2300.0</td>\n",
              "      <td>26/11/2020</td>\n",
              "      <td>Blanca Ramirez</td>\n",
              "      <td>Medellín</td>\n",
              "      <td>3</td>\n",
              "      <td>Tarjeta de crédito</td>\n",
              "      <td>4</td>\n",
              "      <td>6.25184</td>\n",
              "      <td>-75.56359</td>\n",
              "    </tr>\n",
              "    <tr>\n",
              "      <th>2</th>\n",
              "      <td>Cama king</td>\n",
              "      <td>Muebles</td>\n",
              "      <td>443300.0</td>\n",
              "      <td>23800.0</td>\n",
              "      <td>22/10/2021</td>\n",
              "      <td>Izabela de León</td>\n",
              "      <td>Pereira</td>\n",
              "      <td>5</td>\n",
              "      <td>Tarjeta de crédito</td>\n",
              "      <td>10</td>\n",
              "      <td>4.81333</td>\n",
              "      <td>-75.69611</td>\n",
              "    </tr>\n",
              "    <tr>\n",
              "      <th>3</th>\n",
              "      <td>Cama king</td>\n",
              "      <td>Muebles</td>\n",
              "      <td>906200.0</td>\n",
              "      <td>46400.0</td>\n",
              "      <td>04/05/2022</td>\n",
              "      <td>Maria Alfonso</td>\n",
              "      <td>Cali</td>\n",
              "      <td>5</td>\n",
              "      <td>Tarjeta de crédito</td>\n",
              "      <td>10</td>\n",
              "      <td>3.43722</td>\n",
              "      <td>-76.52250</td>\n",
              "    </tr>\n",
              "    <tr>\n",
              "      <th>4</th>\n",
              "      <td>Silla de oficina</td>\n",
              "      <td>Muebles</td>\n",
              "      <td>397800.0</td>\n",
              "      <td>19400.0</td>\n",
              "      <td>26/02/2022</td>\n",
              "      <td>Lucas Olivera</td>\n",
              "      <td>Bogotá</td>\n",
              "      <td>4</td>\n",
              "      <td>Tarjeta de crédito</td>\n",
              "      <td>3</td>\n",
              "      <td>4.60971</td>\n",
              "      <td>-74.08175</td>\n",
              "    </tr>\n",
              "  </tbody>\n",
              "</table>\n",
              "</div>\n",
              "    <div class=\"colab-df-buttons\">\n",
              "\n",
              "  <div class=\"colab-df-container\">\n",
              "    <button class=\"colab-df-convert\" onclick=\"convertToInteractive('df-257d1b00-2483-46dd-b99d-43c90419cd2c')\"\n",
              "            title=\"Convert this dataframe to an interactive table.\"\n",
              "            style=\"display:none;\">\n",
              "\n",
              "  <svg xmlns=\"http://www.w3.org/2000/svg\" height=\"24px\" viewBox=\"0 -960 960 960\">\n",
              "    <path d=\"M120-120v-720h720v720H120Zm60-500h600v-160H180v160Zm220 220h160v-160H400v160Zm0 220h160v-160H400v160ZM180-400h160v-160H180v160Zm440 0h160v-160H620v160ZM180-180h160v-160H180v160Zm440 0h160v-160H620v160Z\"/>\n",
              "  </svg>\n",
              "    </button>\n",
              "\n",
              "  <style>\n",
              "    .colab-df-container {\n",
              "      display:flex;\n",
              "      gap: 12px;\n",
              "    }\n",
              "\n",
              "    .colab-df-convert {\n",
              "      background-color: #E8F0FE;\n",
              "      border: none;\n",
              "      border-radius: 50%;\n",
              "      cursor: pointer;\n",
              "      display: none;\n",
              "      fill: #1967D2;\n",
              "      height: 32px;\n",
              "      padding: 0 0 0 0;\n",
              "      width: 32px;\n",
              "    }\n",
              "\n",
              "    .colab-df-convert:hover {\n",
              "      background-color: #E2EBFA;\n",
              "      box-shadow: 0px 1px 2px rgba(60, 64, 67, 0.3), 0px 1px 3px 1px rgba(60, 64, 67, 0.15);\n",
              "      fill: #174EA6;\n",
              "    }\n",
              "\n",
              "    .colab-df-buttons div {\n",
              "      margin-bottom: 4px;\n",
              "    }\n",
              "\n",
              "    [theme=dark] .colab-df-convert {\n",
              "      background-color: #3B4455;\n",
              "      fill: #D2E3FC;\n",
              "    }\n",
              "\n",
              "    [theme=dark] .colab-df-convert:hover {\n",
              "      background-color: #434B5C;\n",
              "      box-shadow: 0px 1px 3px 1px rgba(0, 0, 0, 0.15);\n",
              "      filter: drop-shadow(0px 1px 2px rgba(0, 0, 0, 0.3));\n",
              "      fill: #FFFFFF;\n",
              "    }\n",
              "  </style>\n",
              "\n",
              "    <script>\n",
              "      const buttonEl =\n",
              "        document.querySelector('#df-257d1b00-2483-46dd-b99d-43c90419cd2c button.colab-df-convert');\n",
              "      buttonEl.style.display =\n",
              "        google.colab.kernel.accessAllowed ? 'block' : 'none';\n",
              "\n",
              "      async function convertToInteractive(key) {\n",
              "        const element = document.querySelector('#df-257d1b00-2483-46dd-b99d-43c90419cd2c');\n",
              "        const dataTable =\n",
              "          await google.colab.kernel.invokeFunction('convertToInteractive',\n",
              "                                                    [key], {});\n",
              "        if (!dataTable) return;\n",
              "\n",
              "        const docLinkHtml = 'Like what you see? Visit the ' +\n",
              "          '<a target=\"_blank\" href=https://colab.research.google.com/notebooks/data_table.ipynb>data table notebook</a>'\n",
              "          + ' to learn more about interactive tables.';\n",
              "        element.innerHTML = '';\n",
              "        dataTable['output_type'] = 'display_data';\n",
              "        await google.colab.output.renderOutput(dataTable, element);\n",
              "        const docLink = document.createElement('div');\n",
              "        docLink.innerHTML = docLinkHtml;\n",
              "        element.appendChild(docLink);\n",
              "      }\n",
              "    </script>\n",
              "  </div>\n",
              "\n",
              "\n",
              "    <div id=\"df-8b1d4714-f364-48f3-a80f-ad9cb727edf5\">\n",
              "      <button class=\"colab-df-quickchart\" onclick=\"quickchart('df-8b1d4714-f364-48f3-a80f-ad9cb727edf5')\"\n",
              "                title=\"Suggest charts\"\n",
              "                style=\"display:none;\">\n",
              "\n",
              "<svg xmlns=\"http://www.w3.org/2000/svg\" height=\"24px\"viewBox=\"0 0 24 24\"\n",
              "     width=\"24px\">\n",
              "    <g>\n",
              "        <path d=\"M19 3H5c-1.1 0-2 .9-2 2v14c0 1.1.9 2 2 2h14c1.1 0 2-.9 2-2V5c0-1.1-.9-2-2-2zM9 17H7v-7h2v7zm4 0h-2V7h2v10zm4 0h-2v-4h2v4z\"/>\n",
              "    </g>\n",
              "</svg>\n",
              "      </button>\n",
              "\n",
              "<style>\n",
              "  .colab-df-quickchart {\n",
              "      --bg-color: #E8F0FE;\n",
              "      --fill-color: #1967D2;\n",
              "      --hover-bg-color: #E2EBFA;\n",
              "      --hover-fill-color: #174EA6;\n",
              "      --disabled-fill-color: #AAA;\n",
              "      --disabled-bg-color: #DDD;\n",
              "  }\n",
              "\n",
              "  [theme=dark] .colab-df-quickchart {\n",
              "      --bg-color: #3B4455;\n",
              "      --fill-color: #D2E3FC;\n",
              "      --hover-bg-color: #434B5C;\n",
              "      --hover-fill-color: #FFFFFF;\n",
              "      --disabled-bg-color: #3B4455;\n",
              "      --disabled-fill-color: #666;\n",
              "  }\n",
              "\n",
              "  .colab-df-quickchart {\n",
              "    background-color: var(--bg-color);\n",
              "    border: none;\n",
              "    border-radius: 50%;\n",
              "    cursor: pointer;\n",
              "    display: none;\n",
              "    fill: var(--fill-color);\n",
              "    height: 32px;\n",
              "    padding: 0;\n",
              "    width: 32px;\n",
              "  }\n",
              "\n",
              "  .colab-df-quickchart:hover {\n",
              "    background-color: var(--hover-bg-color);\n",
              "    box-shadow: 0 1px 2px rgba(60, 64, 67, 0.3), 0 1px 3px 1px rgba(60, 64, 67, 0.15);\n",
              "    fill: var(--button-hover-fill-color);\n",
              "  }\n",
              "\n",
              "  .colab-df-quickchart-complete:disabled,\n",
              "  .colab-df-quickchart-complete:disabled:hover {\n",
              "    background-color: var(--disabled-bg-color);\n",
              "    fill: var(--disabled-fill-color);\n",
              "    box-shadow: none;\n",
              "  }\n",
              "\n",
              "  .colab-df-spinner {\n",
              "    border: 2px solid var(--fill-color);\n",
              "    border-color: transparent;\n",
              "    border-bottom-color: var(--fill-color);\n",
              "    animation:\n",
              "      spin 1s steps(1) infinite;\n",
              "  }\n",
              "\n",
              "  @keyframes spin {\n",
              "    0% {\n",
              "      border-color: transparent;\n",
              "      border-bottom-color: var(--fill-color);\n",
              "      border-left-color: var(--fill-color);\n",
              "    }\n",
              "    20% {\n",
              "      border-color: transparent;\n",
              "      border-left-color: var(--fill-color);\n",
              "      border-top-color: var(--fill-color);\n",
              "    }\n",
              "    30% {\n",
              "      border-color: transparent;\n",
              "      border-left-color: var(--fill-color);\n",
              "      border-top-color: var(--fill-color);\n",
              "      border-right-color: var(--fill-color);\n",
              "    }\n",
              "    40% {\n",
              "      border-color: transparent;\n",
              "      border-right-color: var(--fill-color);\n",
              "      border-top-color: var(--fill-color);\n",
              "    }\n",
              "    60% {\n",
              "      border-color: transparent;\n",
              "      border-right-color: var(--fill-color);\n",
              "    }\n",
              "    80% {\n",
              "      border-color: transparent;\n",
              "      border-right-color: var(--fill-color);\n",
              "      border-bottom-color: var(--fill-color);\n",
              "    }\n",
              "    90% {\n",
              "      border-color: transparent;\n",
              "      border-bottom-color: var(--fill-color);\n",
              "    }\n",
              "  }\n",
              "</style>\n",
              "\n",
              "      <script>\n",
              "        async function quickchart(key) {\n",
              "          const quickchartButtonEl =\n",
              "            document.querySelector('#' + key + ' button');\n",
              "          quickchartButtonEl.disabled = true;  // To prevent multiple clicks.\n",
              "          quickchartButtonEl.classList.add('colab-df-spinner');\n",
              "          try {\n",
              "            const charts = await google.colab.kernel.invokeFunction(\n",
              "                'suggestCharts', [key], {});\n",
              "          } catch (error) {\n",
              "            console.error('Error during call to suggestCharts:', error);\n",
              "          }\n",
              "          quickchartButtonEl.classList.remove('colab-df-spinner');\n",
              "          quickchartButtonEl.classList.add('colab-df-quickchart-complete');\n",
              "        }\n",
              "        (() => {\n",
              "          let quickchartButtonEl =\n",
              "            document.querySelector('#df-8b1d4714-f364-48f3-a80f-ad9cb727edf5 button');\n",
              "          quickchartButtonEl.style.display =\n",
              "            google.colab.kernel.accessAllowed ? 'block' : 'none';\n",
              "        })();\n",
              "      </script>\n",
              "    </div>\n",
              "\n",
              "    </div>\n",
              "  </div>\n"
            ],
            "application/vnd.google.colaboratory.intrinsic+json": {
              "type": "dataframe",
              "variable_name": "tienda2",
              "summary": "{\n  \"name\": \"tienda2\",\n  \"rows\": 2359,\n  \"fields\": [\n    {\n      \"column\": \"Producto\",\n      \"properties\": {\n        \"dtype\": \"category\",\n        \"num_unique_values\": 51,\n        \"samples\": [\n          \"Carrito de control remoto\",\n          \"Bal\\u00f3n de voleibol\",\n          \"Smartwatch\"\n        ],\n        \"semantic_type\": \"\",\n        \"description\": \"\"\n      }\n    },\n    {\n      \"column\": \"Categor\\u00eda del Producto\",\n      \"properties\": {\n        \"dtype\": \"category\",\n        \"num_unique_values\": 8,\n        \"samples\": [\n          \"Instrumentos musicales\",\n          \"Juguetes\",\n          \"Muebles\"\n        ],\n        \"semantic_type\": \"\",\n        \"description\": \"\"\n      }\n    },\n    {\n      \"column\": \"Precio\",\n      \"properties\": {\n        \"dtype\": \"number\",\n        \"std\": 595559.5496238894,\n        \"min\": 7600.0,\n        \"max\": 2953400.0,\n        \"num_unique_values\": 1908,\n        \"samples\": [\n          58500.0,\n          39100.0,\n          2005300.0\n        ],\n        \"semantic_type\": \"\",\n        \"description\": \"\"\n      }\n    },\n    {\n      \"column\": \"Costo de env\\u00edo\",\n      \"properties\": {\n        \"dtype\": \"number\",\n        \"std\": 31741.37516624008,\n        \"min\": 0.0,\n        \"max\": 162500.0,\n        \"num_unique_values\": 736,\n        \"samples\": [\n          79700.0,\n          32300.0,\n          12600.0\n        ],\n        \"semantic_type\": \"\",\n        \"description\": \"\"\n      }\n    },\n    {\n      \"column\": \"Fecha de Compra\",\n      \"properties\": {\n        \"dtype\": \"category\",\n        \"num_unique_values\": 1025,\n        \"samples\": [\n          \"17/02/2021\",\n          \"16/03/2023\",\n          \"30/07/2020\"\n        ],\n        \"semantic_type\": \"\",\n        \"description\": \"\"\n      }\n    },\n    {\n      \"column\": \"Vendedor\",\n      \"properties\": {\n        \"dtype\": \"category\",\n        \"num_unique_values\": 14,\n        \"samples\": [\n          \"Felipe Santos\",\n          \"\\u00c1ngel Rodriguez\",\n          \"Izabela de Le\\u00f3n\"\n        ],\n        \"semantic_type\": \"\",\n        \"description\": \"\"\n      }\n    },\n    {\n      \"column\": \"Lugar de Compra\",\n      \"properties\": {\n        \"dtype\": \"category\",\n        \"num_unique_values\": 19,\n        \"samples\": [\n          \"Medell\\u00edn\",\n          \"Barranquilla\",\n          \"Manizales\"\n        ],\n        \"semantic_type\": \"\",\n        \"description\": \"\"\n      }\n    },\n    {\n      \"column\": \"Calificaci\\u00f3n\",\n      \"properties\": {\n        \"dtype\": \"number\",\n        \"std\": 1,\n        \"min\": 1,\n        \"max\": 5,\n        \"num_unique_values\": 5,\n        \"samples\": [\n          3,\n          2,\n          5\n        ],\n        \"semantic_type\": \"\",\n        \"description\": \"\"\n      }\n    },\n    {\n      \"column\": \"M\\u00e9todo de pago\",\n      \"properties\": {\n        \"dtype\": \"category\",\n        \"num_unique_values\": 4,\n        \"samples\": [\n          \"Tarjeta de cr\\u00e9dito\",\n          \"Tarjeta de d\\u00e9bito\",\n          \"Nequi\"\n        ],\n        \"semantic_type\": \"\",\n        \"description\": \"\"\n      }\n    },\n    {\n      \"column\": \"Cantidad de cuotas\",\n      \"properties\": {\n        \"dtype\": \"number\",\n        \"std\": 2,\n        \"min\": 1,\n        \"max\": 24,\n        \"num_unique_values\": 17,\n        \"samples\": [\n          1,\n          4,\n          2\n        ],\n        \"semantic_type\": \"\",\n        \"description\": \"\"\n      }\n    },\n    {\n      \"column\": \"lat\",\n      \"properties\": {\n        \"dtype\": \"number\",\n        \"std\": 2.3511176512146568,\n        \"min\": -4.21528,\n        \"max\": 11.54444,\n        \"num_unique_values\": 19,\n        \"samples\": [\n          6.25184,\n          10.96854,\n          5.06889\n        ],\n        \"semantic_type\": \"\",\n        \"description\": \"\"\n      }\n    },\n    {\n      \"column\": \"lon\",\n      \"properties\": {\n        \"dtype\": \"number\",\n        \"std\": 1.185996710833015,\n        \"min\": -77.28111,\n        \"max\": -67.9239,\n        \"num_unique_values\": 19,\n        \"samples\": [\n          -75.56359,\n          -74.78132,\n          -75.51738\n        ],\n        \"semantic_type\": \"\",\n        \"description\": \"\"\n      }\n    }\n  ]\n}"
            }
          },
          "metadata": {},
          "execution_count": 8
        }
      ]
    },
    {
      "cell_type": "code",
      "source": [
        "tienda = tienda.rename(columns={\"Producto\" : \"producto\", \"Categoría del Producto\" : \"categoria\", \"Precio\" : \"precio\", \"Fecha de Compra\" : \"fecha_de_compra\", \"Vendedor\" : \"vendedor\", \"Calificación\" : \"calificacion\", \"Método de pago\" : \"metodo_de_pago\", \"Cantidad de cuotas\" : \"cantidad_de_cuotas\", \"Costo de envío\" : \"costo_de_envio\", \"Lugar de Compra\" : \"lugar_de_compra\"})\n",
        "tienda2 = tienda2.rename(columns={\"Producto\" : \"producto\", \"Categoría del Producto\" : \"categoria\", \"Precio\" : \"precio\", \"Fecha de Compra\" : \"fecha_de_compra\", \"Vendedor\" : \"vendedor\", \"Calificación\" : \"calificacion\", \"Método de pago\" : \"metodo_de_pago\", \"Cantidad de cuotas\" : \"cantidad_de_cuotas\", \"Costo de envío\" : \"costo_de_envio\", \"Lugar de Compra\" : \"lugar_de_compra\"})\n",
        "tienda3 = tienda3.rename(columns={\"Producto\" : \"producto\", \"Categoría del Producto\" : \"categoria\", \"Precio\" : \"precio\", \"Fecha de Compra\" : \"fecha_de_compra\", \"Vendedor\" : \"vendedor\", \"Calificación\" : \"calificacion\", \"Método de pago\" : \"metodo_de_pago\", \"Cantidad de cuotas\" : \"cantidad_de_cuotas\", \"Costo de envío\" : \"costo_de_envio\", \"Lugar de Compra\" : \"lugar_de_compra\"})\n",
        "tienda4 = tienda4.rename(columns={\"Producto\" : \"producto\", \"Categoría del Producto\" : \"categoria\", \"Precio\" : \"precio\", \"Fecha de Compra\" : \"fecha_de_compra\", \"Vendedor\" : \"vendedor\", \"Calificación\" : \"calificacion\", \"Método de pago\" : \"metodo_de_pago\", \"Cantidad de cuotas\" : \"cantidad_de_cuotas\", \"Costo de envío\" : \"costo_de_envio\", \"Lugar de Compra\" : \"lugar_de_compra\"})"
      ],
      "metadata": {
        "id": "w_aD79TU4kV7"
      },
      "execution_count": 9,
      "outputs": []
    },
    {
      "cell_type": "markdown",
      "source": [
        "#1. Análisis de facturación\n",
        "\n"
      ],
      "metadata": {
        "id": "X62IW3KFUIYm"
      }
    },
    {
      "cell_type": "markdown",
      "source": [
        "### Calculo los ingresos totales de cada tienda sumando la columna precios"
      ],
      "metadata": {
        "id": "lO0g8QFq0gW8"
      }
    },
    {
      "cell_type": "code",
      "source": [
        "facturacion = tienda['precio'].sum()\n",
        "facturacion2 = tienda2['precio'].sum()\n",
        "facturacion3 = tienda3['precio'].sum()\n",
        "facturacion4 = tienda4['precio'].sum()\n"
      ],
      "metadata": {
        "id": "xykobSftV64I"
      },
      "execution_count": 10,
      "outputs": []
    },
    {
      "cell_type": "code",
      "source": [
        "print(facturacion)\n",
        "print(facturacion2)\n",
        "print(facturacion3)\n",
        "print(facturacion4)"
      ],
      "metadata": {
        "id": "KDyr8E71V3m-",
        "colab": {
          "base_uri": "https://localhost:8080/"
        },
        "outputId": "834f2fdf-e0fe-461b-a0e2-06f5016c9e4d"
      },
      "execution_count": 11,
      "outputs": [
        {
          "output_type": "stream",
          "name": "stdout",
          "text": [
            "1150880400.0\n",
            "1116343500.0\n",
            "1098019600.0\n",
            "1038375700.0\n"
          ]
        }
      ]
    },
    {
      "cell_type": "code",
      "source": [
        "fact = [facturacion, facturacion2, facturacion3, facturacion4 ]\n",
        "tiendas = [\"Tienda 1\", \"Tienda 2\", \"Tienda 3\", \"Tienda 4\"]\n",
        "res = pd.DataFrame({\"tienda\" : tiendas, \"facturacion\" : fact})\n",
        "res[\"fact_m\"] = res[\"facturacion\"] /1e6\n",
        "\n",
        "res.plot.barh(x='tienda', y='fact_m',\n",
        "              figsize=(12,8), color='purple',\n",
        "              xlabel='$ (millones)', ylabel='Tienda')\n"
      ],
      "metadata": {
        "colab": {
          "base_uri": "https://localhost:8080/",
          "height": 595
        },
        "id": "QCvbYE-77z1t",
        "outputId": "b2ea0af0-2091-4ad9-ebf5-9dcc50d43466"
      },
      "execution_count": 12,
      "outputs": [
        {
          "output_type": "execute_result",
          "data": {
            "text/plain": [
              "<Axes: xlabel='$ (millones)', ylabel='Tienda'>"
            ]
          },
          "metadata": {},
          "execution_count": 12
        },
        {
          "output_type": "display_data",
          "data": {
            "text/plain": [
              "<Figure size 1200x800 with 1 Axes>"
            ],
            "image/png": "[encoded data removed]"
          },
          "metadata": {}
        }
      ]
    },
    {
      "cell_type": "markdown",
      "source": [
        "# 2. Ventas por categoría"
      ],
      "metadata": {
        "id": "2V_vcAPzWZmR"
      }
    },
    {
      "cell_type": "markdown",
      "source": [
        "### Necesito saber la cantidad de veces que se repite cada categoria para contar el numero de ventas que tuvo cada tipo"
      ],
      "metadata": {
        "id": "CIZMDYUW3UxV"
      }
    },
    {
      "cell_type": "code",
      "source": [
        "ventas_cat = tienda[\"categoria\"].value_counts()\n",
        "ventas_cat2 = tienda2[\"categoria\"].value_counts()\n",
        "ventas_cat3 = tienda3[\"categoria\"].value_counts()\n",
        "ventas_cat4 = tienda4[\"categoria\"].value_counts()\n",
        "\n",
        "print(ventas_cat)\n",
        "print(ventas_cat2)\n",
        "print(ventas_cat3)\n",
        "print(ventas_cat4)\n"
      ],
      "metadata": {
        "colab": {
          "base_uri": "https://localhost:8080/"
        },
        "id": "4nDnvyXQ3bOE",
        "outputId": "68a4b39c-13e1-498d-e427-ec07c1ce8afc"
      },
      "execution_count": 13,
      "outputs": [
        {
          "output_type": "stream",
          "name": "stdout",
          "text": [
            "categoria\n",
            "Muebles                    465\n",
            "Electrónicos               448\n",
            "Juguetes                   324\n",
            "Electrodomésticos          312\n",
            "Deportes y diversión       284\n",
            "Instrumentos musicales     182\n",
            "Libros                     173\n",
            "Artículos para el hogar    171\n",
            "Name: count, dtype: int64\n",
            "categoria\n",
            "Muebles                    442\n",
            "Electrónicos               422\n",
            "Juguetes                   313\n",
            "Electrodomésticos          305\n",
            "Deportes y diversión       275\n",
            "Instrumentos musicales     224\n",
            "Libros                     197\n",
            "Artículos para el hogar    181\n",
            "Name: count, dtype: int64\n",
            "categoria\n",
            "Muebles                    499\n",
            "Electrónicos               451\n",
            "Juguetes                   315\n",
            "Electrodomésticos          278\n",
            "Deportes y diversión       277\n",
            "Libros                     185\n",
            "Instrumentos musicales     177\n",
            "Artículos para el hogar    177\n",
            "Name: count, dtype: int64\n",
            "categoria\n",
            "Muebles                    480\n",
            "Electrónicos               451\n",
            "Juguetes                   338\n",
            "Deportes y diversión       277\n",
            "Electrodomésticos          254\n",
            "Artículos para el hogar    201\n",
            "Libros                     187\n",
            "Instrumentos musicales     170\n",
            "Name: count, dtype: int64\n"
          ]
        }
      ]
    },
    {
      "cell_type": "code",
      "source": [
        "ventas_cat.plot.pie(y=\"Ventas de productos\", figsize=(5,5))"
      ],
      "metadata": {
        "colab": {
          "base_uri": "https://localhost:8080/",
          "height": 439
        },
        "id": "_j3uqdrXTcDw",
        "outputId": "9c581d8d-dd5b-46b1-e0e6-5caba3958ec8"
      },
      "execution_count": 14,
      "outputs": [
        {
          "output_type": "execute_result",
          "data": {
            "text/plain": [
              "<Axes: ylabel='count'>"
            ]
          },
          "metadata": {},
          "execution_count": 14
        },
        {
          "output_type": "display_data",
          "data": {
            "text/plain": [
              "<Figure size 500x500 with 1 Axes>"
            ],
            "image/png": "[encoded data removed]"
          },
          "metadata": {}
        }
      ]
    },
    {
      "cell_type": "markdown",
      "source": [
        "# 3. Calificación promedio de la tienda\n"
      ],
      "metadata": {
        "id": "Rq6tU_xSY3jk"
      }
    },
    {
      "cell_type": "code",
      "source": [
        "calificacion_tienda = tienda['calificacion'].mean()\n",
        "calificacion_tienda2 = tienda2['calificacion'].mean()\n",
        "calificacion_tienda3 = tienda3['calificacion'].mean()\n",
        "calificacion_tienda4 = tienda4['calificacion'].mean()\n"
      ],
      "metadata": {
        "id": "bh3jjjJwY5MU"
      },
      "execution_count": 15,
      "outputs": []
    },
    {
      "cell_type": "code",
      "source": [
        "calif = [calificacion_tienda, calificacion_tienda2, calificacion_tienda3, calificacion_tienda4]\n",
        "res2 = pd.DataFrame({\"tienda\" : tiendas, \"calificacion\" : calif})\n",
        "print(res2.to_string(index= False))"
      ],
      "metadata": {
        "id": "I0KkjPoTY88F",
        "colab": {
          "base_uri": "https://localhost:8080/"
        },
        "outputId": "92346d3d-c4bf-42fa-be6c-f5de2a0d31c9"
      },
      "execution_count": 16,
      "outputs": [
        {
          "output_type": "stream",
          "name": "stdout",
          "text": [
            "  tienda  calificacion\n",
            "Tienda 1      3.976685\n",
            "Tienda 2      4.037304\n",
            "Tienda 3      4.048326\n",
            "Tienda 4      3.995759\n"
          ]
        }
      ]
    },
    {
      "cell_type": "markdown",
      "source": [
        "# 4. Productos más y menos vendidos"
      ],
      "metadata": {
        "id": "DmNp1KPBZCm-"
      }
    },
    {
      "cell_type": "code",
      "source": [
        "productos_vent = tienda[\"producto\"].value_counts()\n",
        "productos_vent2 = tienda2[\"producto\"].value_counts()\n",
        "productos_vent3 = tienda3[\"producto\"].value_counts()\n",
        "productos_vent4 = tienda4[\"producto\"].value_counts()\n",
        "\n",
        "mas_menos_producto_venta = productos_vent.iloc[[0, -1]]\n",
        "mas_menos_producto_venta2 = productos_vent2.iloc[[0, -1]]\n",
        "mas_menos_producto_venta3 = productos_vent3.iloc[[0, -1]]\n",
        "mas_menos_producto_venta4 = productos_vent4.iloc[[0, -1]]\n"
      ],
      "metadata": {
        "id": "qoyjqijQZHfF"
      },
      "execution_count": 17,
      "outputs": []
    },
    {
      "cell_type": "code",
      "source": [
        "print(mas_menos_producto_venta)\n",
        "print(mas_menos_producto_venta2)\n",
        "print(mas_menos_producto_venta3)\n",
        "print(mas_menos_producto_venta4)"
      ],
      "metadata": {
        "id": "0Sw3sd4IZIGW",
        "colab": {
          "base_uri": "https://localhost:8080/"
        },
        "outputId": "e66a6069-9a5b-42f6-fbf2-441d1883c6bb"
      },
      "execution_count": 18,
      "outputs": [
        {
          "output_type": "stream",
          "name": "stdout",
          "text": [
            "producto\n",
            "Microondas      60\n",
            "Celular ABXY    33\n",
            "Name: count, dtype: int64\n",
            "producto\n",
            "Iniciando en programación    65\n",
            "Juego de mesa                32\n",
            "Name: count, dtype: int64\n",
            "producto\n",
            "Kit de bancas              57\n",
            "Bloques de construcción    35\n",
            "Name: count, dtype: int64\n",
            "producto\n",
            "Cama box              62\n",
            "Guitarra eléctrica    33\n",
            "Name: count, dtype: int64\n"
          ]
        }
      ]
    },
    {
      "cell_type": "markdown",
      "source": [
        "# 5. Envío promedio por tienda"
      ],
      "metadata": {
        "id": "Fl0cGi3bZKqU"
      }
    },
    {
      "cell_type": "code",
      "source": [
        "costo_envio_prom = tienda['costo_de_envio'].mean()\n",
        "costo_envio_prom2 = tienda2['costo_de_envio'].mean()\n",
        "costo_envio_prom3 = tienda3['costo_de_envio'].mean()\n",
        "costo_envio_prom4 = tienda4['costo_de_envio'].mean()"
      ],
      "metadata": {
        "id": "S2JeaCykZNy9"
      },
      "execution_count": 19,
      "outputs": []
    },
    {
      "cell_type": "code",
      "source": [
        "print(f\"El costo de envio de la 1° Tienda es {costo_envio_prom}\")\n",
        "print(f\"El costo de envio de la 2° Tienda es {costo_envio_prom2}\")\n",
        "print(f\"El costo de envio de la 3° Tienda es {costo_envio_prom3}\")\n",
        "print(f\"El costo de envio de la 4° Tienda es {costo_envio_prom4}\")"
      ],
      "metadata": {
        "id": "0tSdCie9ZQlt",
        "colab": {
          "base_uri": "https://localhost:8080/"
        },
        "outputId": "f2e4bb2b-5819-4d99-977a-3096eb24d06b"
      },
      "execution_count": 20,
      "outputs": [
        {
          "output_type": "stream",
          "name": "stdout",
          "text": [
            "El costo de envio de la 1° Tienda es 26018.60958033065\n",
            "El costo de envio de la 2° Tienda es 25216.235693090293\n",
            "El costo de envio de la 3° Tienda es 24805.680373039424\n",
            "El costo de envio de la 4° Tienda es 23459.457167090754\n"
          ]
        }
      ]
    },
    {
      "cell_type": "code",
      "source": [
        "\n",
        "costos_envio_prom_total = [costo_envio_prom, costo_envio_prom2, costo_envio_prom3, costo_envio_prom4 ]\n",
        "costos_envio_series = pd.Series(costos_envio_prom_total, index=tiendas)\n",
        "\n",
        "costos_envio_series.plot(kind=\"bar\", figsize = (5,5))"
      ],
      "metadata": {
        "colab": {
          "base_uri": "https://localhost:8080/",
          "height": 508
        },
        "id": "dNuhOtNcUrr4",
        "outputId": "9afa3d4e-fca4-4171-b230-487fdd4e82ba"
      },
      "execution_count": 21,
      "outputs": [
        {
          "output_type": "execute_result",
          "data": {
            "text/plain": [
              "<Axes: >"
            ]
          },
          "metadata": {},
          "execution_count": 21
        },
        {
          "output_type": "display_data",
          "data": {
            "text/plain": [
              "<Figure size 500x500 with 1 Axes>"
            ],
            "image/png": "[encoded data removed]"
          },
          "metadata": {}
        }
      ]
    },
    {
      "cell_type": "markdown",
      "source": [
        "# INFORME"
      ],
      "metadata": {
        "id": "HcPxzrEtVpEH"
      }
    },
    {
      "cell_type": "markdown",
      "source": [
        "### Introduccion\n",
        "\n",
        "Este informe sintetiza los resultados del analisis para decidir qué tienda debe vender el Sr. Juan. Se evaluaron los ingresos totales, las categorias mas/menos vendids, las calificaciones promedios de los clientes, los productos mas/menos vendidos y el coste de envio promedio por tienda."
      ],
      "metadata": {
        "id": "8FiIXYa2WXuA"
      }
    },
    {
      "cell_type": "markdown",
      "source": [
        "### Resultados"
      ],
      "metadata": {
        "id": "Zcd1tYdnhmQ5"
      }
    },
    {
      "cell_type": "markdown",
      "source": [
        "#### 1) Ingresos totales por tienda\n",
        "\n"
      ],
      "metadata": {
        "id": "UQUf7khMVsbA"
      }
    },
    {
      "cell_type": "markdown",
      "source": [
        "\n",
        "\n",
        "1° Tienda: $1.150.880.400\n",
        "\n",
        "2° Tienda: $1.116.343.500  \n",
        "\n",
        "3° Tienda: $1.098.019.600\n",
        "\n",
        "4° Tienda: $1.038.375.700\n",
        "\n",
        "\n",
        "\n",
        "\n",
        "\n",
        "\n"
      ],
      "metadata": {
        "id": "-h_2_PS9XL44"
      }
    },
    {
      "cell_type": "markdown",
      "source": [
        "![image.png](data:image/png;base64,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)"
      ],
      "metadata": {
        "id": "8FQGD1uJaFvI"
      }
    },
    {
      "cell_type": "markdown",
      "source": [
        "La tienda con mayor ingreso es la Tineda 1, mientras que la 4 es la de menos."
      ],
      "metadata": {
        "id": "cSDCvRN3aLPg"
      }
    },
    {
      "cell_type": "markdown",
      "source": [
        "#### 2) Categoria mas y menos vendidas"
      ],
      "metadata": {
        "id": "6hBqK7XPaVEw"
      }
    },
    {
      "cell_type": "markdown",
      "source": [
        "* Tienda 1: La categoria mas vendida es Muebles con 465, mientras que la de menor ventas es Artículos para el hogar con 171.\n",
        "\n",
        "* Tienda 2: La categoria mas vendida es Muebles con 442, mientras que la de menor ventas es Artículos para el hogar con 181.\n",
        "\n",
        "* Tienda 3: La categoria mas vendida es Muebles con 499, mientras que la de menor ventas es Artículos para el hogar con 177.\n",
        "\n",
        "* Tienda 4: La categoria mas vendida es Muebles con 480, mientras que la de menor ventas es Instrumentos musicales con 170."
      ],
      "metadata": {
        "id": "vJoQEwSVaeRA"
      }
    },
    {
      "cell_type": "markdown",
      "source": [
        "### 3) Calificacion promedio de clientes por tienda"
      ],
      "metadata": {
        "id": "gTyeBIupbPuB"
      }
    },
    {
      "cell_type": "markdown",
      "source": [
        "* Tienda 1:      3.976685\n",
        "\n",
        "* Tienda 2:      4.037304\n",
        "\n",
        "* Tienda 3:      4.048326\n",
        "\n",
        "* Tienda 4:      3.995759\n"
      ],
      "metadata": {
        "id": "WLushGVPbX6Z"
      }
    },
    {
      "cell_type": "markdown",
      "source": [
        "La tienda con mejor calificacion es la Tienda 3. La de peor calificacion es la Tienda 1."
      ],
      "metadata": {
        "id": "DSZU-hGucHpx"
      }
    },
    {
      "cell_type": "markdown",
      "source": [
        "#### 4) Producto mas y menos vendidos\n",
        "\n"
      ],
      "metadata": {
        "id": "iejp42vzdisg"
      }
    },
    {
      "cell_type": "markdown",
      "source": [
        "* 1° Tienda: El producto mas vendido es Microondas con 60 unidades. El producto menos vendido es Celular ABXY con 33 unidades.\n",
        "\n",
        "* 2° Tienda: El producto mas vendido es Iniciando en programación con 65 unidades. El producto menos vendido es Juego de mesa con 32 unidades.\n",
        "\n",
        "* 3° Tienda: El producto mas vendido es Kit de bancas con 57 unidades. El producto menos vendido es Bloques de construcción con 35 unidades.\n",
        "\n",
        "* 4° Tienda: El producto mas vendido es Camara Box con 62 unidades. El producto menos vendido es Guitarra eléctrica con 33 unidades."
      ],
      "metadata": {
        "id": "RdPZgouYdtRY"
      }
    },
    {
      "cell_type": "markdown",
      "source": [
        "#### 5. Costo de envío promedio por tienda"
      ],
      "metadata": {
        "id": "3c7YXQZ-eq55"
      }
    },
    {
      "cell_type": "markdown",
      "source": [
        "* 1° Tienda es $26.018.61\n",
        "\n",
        "* 2° Tienda es $25.216.23\n",
        "\n",
        "* 3° Tienda es $24.805.68\n",
        "\n",
        "* 4° Tienda es $23.459.46"
      ],
      "metadata": {
        "id": "oajX70KYezrg"
      }
    },
    {
      "cell_type": "markdown",
      "source": [
        "![image.png](data:image/png;base64,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)"
      ],
      "metadata": {
        "id": "OzrCpVwSfRX5"
      }
    },
    {
      "cell_type": "markdown",
      "source": [
        "### Analisis integrado"
      ],
      "metadata": {
        "id": "qLO_F8A0guqh"
      }
    },
    {
      "cell_type": "markdown",
      "source": [
        "* **Tienda 1:** mayor ingreso. Calificacion mas baja (3.98). Envio mas alto. Riesgo: volumen pero menor satisfaccion y coste logistico elevado.\n",
        "\n",
        "* **Tienda 2:** buen ingreso y buena calificacion. Envio medio.\n",
        "\n",
        "* **Tienda 3:** ingreso cercano a las demas, mejor calificacion y segundo envio mas bajo. Fortaleza en satisfaccion del cliente y costos logisticos competitivos.\n",
        "\n",
        "* **Tienda 4:** menor ingreso pero envio mas barato. Calificacion intermedia."
      ],
      "metadata": {
        "id": "f6xJefi4gwbQ"
      }
    },
    {
      "cell_type": "markdown",
      "source": [
        "### Conclusion"
      ],
      "metadata": {
        "id": "Qptaca9IfScZ"
      }
    },
    {
      "cell_type": "markdown",
      "source": [
        "La tienda que debe vender el Sr. Juan es la **Tienda 4** ya que esta es la de menor ingreso, no lidera en calificación ni en categorias o productos, y su envio mas barato no compensa el volumen inferior."
      ],
      "metadata": {
        "id": "LzA3scE3fjnY"
      }
    }
  ]
}